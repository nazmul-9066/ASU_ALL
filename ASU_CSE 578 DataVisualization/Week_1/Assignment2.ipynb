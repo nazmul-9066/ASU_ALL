{
 "cells": [
  {
   "cell_type": "code",
   "execution_count": 2,
   "metadata": {},
   "outputs": [
    {
     "name": "stdout",
     "output_type": "stream",
     "text": [
      "Flight of the Swingodon\n"
     ]
    }
   ],
   "source": [
    "# Graded Cell, PartID: FXGHp\n",
    "# Question 2: What ride (note that not all attractions are rides) has the longest average visit time?\n",
    "# Notes: Your output should be the name of the ride.\n",
    "\n",
    "import sqlite3\n",
    "from datetime import timedelta\n",
    "import math\n",
    "con = sqlite3.connect('readonly/dinofunworld.db')\n",
    "cur = con.cursor()\n",
    "\n",
    "\n",
    "cur.execute(\"SELECT AttractionID, Name FROM attraction where LOWER(Category) LIKE '%ride%';\")\n",
    "attraction_name_category_list = cur.fetchall()\n",
    "ride_time_tuple = (\"\", 0)\n",
    "for (aid, name) in attraction_name_category_list:\n",
    "    cur.execute(\"SELECT duration FROM checkin where attraction=\"+str(aid)+\";\")\n",
    "    duration_list = cur.fetchall()\n",
    "    total_dur = 0\n",
    "    n = 0\n",
    "    for duration in duration_list:\n",
    "        try:\n",
    "            dur = duration[0].split(':')\n",
    "            total_dur += timedelta(int(dur[0]), int(dur[1]), int(dur[2])).total_seconds()\n",
    "            n += 1\n",
    "        except:\n",
    "            continue\n",
    "    avg_dur = total_dur / n\n",
    "    if avg_dur > ride_time_tuple[1]:\n",
    "        ride_time_tuple = (name, avg_dur)\n",
    "print(ride_time_tuple[0])"
   ]
  },
  {
   "cell_type": "code",
   "execution_count": null,
   "metadata": {},
   "outputs": [],
   "source": []
  }
 ],
 "metadata": {
  "kernelspec": {
   "display_name": "Python 3 (ipykernel)",
   "language": "python",
   "name": "python3"
  },
  "language_info": {
   "codemirror_mode": {
    "name": "ipython",
    "version": 3
   },
   "file_extension": ".py",
   "mimetype": "text/x-python",
   "name": "python",
   "nbconvert_exporter": "python",
   "pygments_lexer": "ipython3",
   "version": "3.7.13"
  }
 },
 "nbformat": 4,
 "nbformat_minor": 4
}
