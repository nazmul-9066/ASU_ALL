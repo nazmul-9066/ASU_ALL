{
 "cells": [
  {
   "cell_type": "code",
   "execution_count": 1,
   "metadata": {
    "tags": []
   },
   "outputs": [
    {
     "name": "stdout",
     "output_type": "stream",
     "text": [
      "Atmosfear\n"
     ]
    }
   ],
   "source": [
    "# Graded Cell, PartID:  NDnou\n",
    "# Question 1: What is the most popular attraction to visit in the park?\n",
    "# Notes: Your output should be the name of the attraction.\n",
    "import sqlite3\n",
    "from datetime import timedelta\n",
    "import math\n",
    "con = sqlite3.connect('readonly/dinofunworld.db')\n",
    "cur = con.cursor()\n",
    "\n",
    "cur.execute(\"SELECT attraction, COUNT(*) as c FROM checkin GROUP BY attraction ORDER BY c desc;\")\n",
    "popular_attraction_id = cur.fetchall()[0][0]\n",
    "\n",
    "cur.execute(\"SELECT Name FROM attraction WHERE AttractionID=\"+str(popular_attraction_id)+\";\")\n",
    "popular_attraction = cur.fetchone()[0]\n",
    "print(popular_attraction)"
   ]
  },
  {
   "cell_type": "code",
   "execution_count": null,
   "metadata": {},
   "outputs": [],
   "source": []
  }
 ],
 "metadata": {
  "kernelspec": {
   "display_name": "Python 3 (ipykernel)",
   "language": "python",
   "name": "python3"
  },
  "language_info": {
   "codemirror_mode": {
    "name": "ipython",
    "version": 3
   },
   "file_extension": ".py",
   "mimetype": "text/x-python",
   "name": "python",
   "nbconvert_exporter": "python",
   "pygments_lexer": "ipython3",
   "version": "3.7.13"
  }
 },
 "nbformat": 4,
 "nbformat_minor": 4
}
